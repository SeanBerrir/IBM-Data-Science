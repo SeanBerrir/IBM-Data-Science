{
 "cells": [
  {
   "cell_type": "markdown",
   "id": "c826de18-c9c7-4d26-89e2-dff3f6861cb1",
   "metadata": {},
   "source": [
    "##### Exercise 1: Create a Jupyter Notebook"
   ]
  },
  {
   "cell_type": "markdown",
   "id": "82b974fa-e710-465e-ab47-319e902af4c2",
   "metadata": {},
   "source": [
    "###### Create a new Jupyter notebook called DataScienceEcosystem.ipynb"
   ]
  },
  {
   "cell_type": "markdown",
   "id": "c0502722-fec4-42ee-a3fb-00f1dec1c931",
   "metadata": {},
   "source": [
    "##### Exercise 2: Create a markdown cell with the title of the notebook"
   ]
  },
  {
   "cell_type": "markdown",
   "id": "f5a41790-fbc1-4be8-8123-642237b06089",
   "metadata": {},
   "source": [
    "<h1>Data Science Tools and Ecosystem</h1>"
   ]
  },
  {
   "cell_type": "markdown",
   "id": "f3cf8779-f4f3-4245-96b1-33d2b823e382",
   "metadata": {},
   "source": [
    "##### Exercise 3 - Create a markdown cell for the introduction"
   ]
  },
  {
   "cell_type": "markdown",
   "id": "1beccc5d-6688-4cbb-aeab-2170d75b9eda",
   "metadata": {},
   "source": [
    "### In this notebook, Data Science Tools and Ecosystem are summarized."
   ]
  },
  {
   "cell_type": "markdown",
   "id": "a83fe42c-ac70-4502-a91f-21bf56e5d8a7",
   "metadata": {},
   "source": [
    "##### Exercise 4- Create a markdown cell to list data science languages"
   ]
  },
  {
   "cell_type": "markdown",
   "id": "68dcd66b-3619-4d85-9427-bcfa8753f1c7",
   "metadata": {},
   "source": [
    "#### Some of the popular languages that Data Scientists use are:"
   ]
  },
  {
   "cell_type": "markdown",
   "id": "45efae1c-e90a-4281-868f-218cf438a04e",
   "metadata": {},
   "source": [
    "<ul>\n",
    "  <li>Python</li>\n",
    "  <li>R</li>\n",
    "  <li>Scala</li>\n",
    "</ul>"
   ]
  },
  {
   "cell_type": "markdown",
   "id": "706582af-1785-45e4-8a22-c8db96140480",
   "metadata": {},
   "source": [
    "##### Exercise 5 - Create a markdown cell to list data science libraries"
   ]
  },
  {
   "cell_type": "markdown",
   "id": "524be286-7f27-4834-998a-715df699892f",
   "metadata": {},
   "source": [
    "#### Some of the commonly used libraries used by the Data Scientists includes:"
   ]
  },
  {
   "cell_type": "markdown",
   "id": "43382c90-0798-47c3-9171-99def4439f31",
   "metadata": {},
   "source": [
    "<ul>\n",
    "  <li>pandas</li>\n",
    "  <li>scikit-learn</li>\n",
    "  <li>matplotlib</li>\n",
    "</ul>"
   ]
  },
  {
   "cell_type": "markdown",
   "id": "9a347c0e-d440-4c8b-b702-11845ec1f27e",
   "metadata": {},
   "source": [
    "##### Exercise 6 - Create a markdown cell with a table of Data Science tools"
   ]
  },
  {
   "cell_type": "markdown",
   "id": "d7688524-c27a-4f4c-bab1-ba5e659d68f3",
   "metadata": {},
   "source": [
    "<table>\n",
    "  <tr>\n",
    "    <th>Data Science Tools</th>\n",
    "   \n",
    "  </tr>\n",
    "  <tr>\n",
    "    <td>R Studio</td>\n",
    "  </tr>\n",
    "  <tr>\n",
    "    <td>Jupyter Notebook</td>\n",
    "  </tr>\n",
    "   <tr>\n",
    "    <td>Azure Machine Learning</td>\n",
    "  </tr>\n",
    "</table>"
   ]
  },
  {
   "cell_type": "markdown",
   "id": "0143053c-d84a-4ef8-bc09-ab949f4a22a6",
   "metadata": {},
   "source": [
    "##### Exercise 7 - Create a markdown cell introducing arithmetic expression examples"
   ]
  },
  {
   "cell_type": "markdown",
   "id": "d139654d-f9f5-494f-8f7e-f13d99b553c6",
   "metadata": {},
   "source": [
    "<h3>Below are few examples of evaluating arighmetic expressions in Python</h3>"
   ]
  },
  {
   "cell_type": "markdown",
   "id": "cfac67f5-5fa1-4495-ab4d-a1d626df369b",
   "metadata": {},
   "source": [
    "##### Exercise 8 - Create a code cell to multiply and add numbers"
   ]
  },
  {
   "cell_type": "code",
   "execution_count": 8,
   "id": "939211c5-f315-4639-920b-c7167f61ba0a",
   "metadata": {},
   "outputs": [
    {
     "data": {
      "text/plain": [
       "17"
      ]
     },
     "execution_count": 8,
     "metadata": {},
     "output_type": "execute_result"
    }
   ],
   "source": [
    "# This is a simple arithmetic expression to multiply then add integers.\n",
    "(3*4)+5"
   ]
  },
  {
   "cell_type": "markdown",
   "id": "23841d30-60d8-49ab-8284-904788112482",
   "metadata": {},
   "source": [
    "##### Exercise 9 - Create code cell to convert minutes to hours"
   ]
  },
  {
   "cell_type": "code",
   "execution_count": 9,
   "id": "32f44b77-94d5-43cf-aa65-5a35121d61d9",
   "metadata": {},
   "outputs": [
    {
     "data": {
      "text/plain": [
       "3.3333333333333335"
      ]
     },
     "execution_count": 9,
     "metadata": {},
     "output_type": "execute_result"
    }
   ],
   "source": [
    "# This will convert 200 minutes to hourse by dividing by 60\n",
    "(200) / 60"
   ]
  },
  {
   "cell_type": "markdown",
   "id": "0ee2e534-dc8e-441d-8f40-cfeb9254eb62",
   "metadata": {},
   "source": [
    "##### Exercise 10 - Insert a markdown cell to list Objectives"
   ]
  },
  {
   "cell_type": "markdown",
   "id": "018cea0b-af25-49a4-bd55-b55497107dd3",
   "metadata": {},
   "source": [
    "### Objectives:"
   ]
  },
  {
   "cell_type": "markdown",
   "id": "1d971760-3fb2-4100-9e47-6cae45a7dd98",
   "metadata": {},
   "source": [
    "<ul>\n",
    "  <li>List of Popular Languages for Data Science</li>\n",
    "  <li>List of Data Science Tools</li>\n",
    "  <li>List of commonly used libraries used by Data Scientists</li>\n",
    "  <li>Python Expressions</li>\n",
    "</ul"
   ]
  },
  {
   "cell_type": "markdown",
   "id": "135fc7c9-03ff-4f12-b064-04a33d1666d8",
   "metadata": {},
   "source": [
    "##### Exercise 11 - Create a markdown cell to indicate the Author's name"
   ]
  },
  {
   "cell_type": "markdown",
   "id": "98810dfb-aea4-4e5c-a84b-c18f6e2a9a5c",
   "metadata": {},
   "source": [
    "<h2>Author</h2> Jose Antonio Berrir"
   ]
  },
  {
   "cell_type": "markdown",
   "id": "2f64bdda-733c-4e2e-ba8c-fc6b3289a59d",
   "metadata": {},
   "source": [
    "##### Exercise 12 - Share your notebook through GitHub"
   ]
  },
  {
   "cell_type": "markdown",
   "id": "954674fb-7360-4790-9fdd-54d18df73199",
   "metadata": {},
   "source": [
    "##### Exercise  13 - Take a screenshot of the first page of the notebook and save it as 1-notebook.png (Images can be saved with either the .jpg or png extension.)"
   ]
  },
  {
   "cell_type": "code",
   "execution_count": null,
   "id": "200f6470-545f-4a8c-a08d-07769e722963",
   "metadata": {},
   "outputs": [],
   "source": []
  }
 ],
 "metadata": {
  "kernelspec": {
   "display_name": "Python 3 (ipykernel)",
   "language": "python",
   "name": "python3"
  },
  "language_info": {
   "codemirror_mode": {
    "name": "ipython",
    "version": 3
   },
   "file_extension": ".py",
   "mimetype": "text/x-python",
   "name": "python",
   "nbconvert_exporter": "python",
   "pygments_lexer": "ipython3",
   "version": "3.11.7"
  }
 },
 "nbformat": 4,
 "nbformat_minor": 5
}
